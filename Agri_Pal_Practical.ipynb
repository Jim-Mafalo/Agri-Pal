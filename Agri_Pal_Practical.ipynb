{
  "nbformat": 4,
  "nbformat_minor": 0,
  "metadata": {
    "colab": {
      "provenance": [],
      "mount_file_id": "1wbvI2uT6GNBcRLE7IemZ4f11f-rDB8_J",
      "authorship_tag": "ABX9TyMceyruKibNdfzi8Xd2dXpM",
      "include_colab_link": true
    },
    "kernelspec": {
      "name": "python3",
      "display_name": "Python 3"
    },
    "language_info": {
      "name": "python"
    }
  },
  "cells": [
    {
      "cell_type": "markdown",
      "metadata": {
        "id": "view-in-github",
        "colab_type": "text"
      },
      "source": [
        "<a href=\"https://colab.research.google.com/github/VUT-BA-3-2-AI-AGRICULTURE-PROJECT/Agri-Pal/blob/main/Agri_Pal_Practical.ipynb\" target=\"_parent\"><img src=\"https://colab.research.google.com/assets/colab-badge.svg\" alt=\"Open In Colab\"/></a>"
      ]
    },
    {
      "cell_type": "code",
      "execution_count": 1,
      "metadata": {
        "id": "7_tQXtxHOuF7"
      },
      "outputs": [],
      "source": [
        "import numpy as np\n",
        "import pandas as pd\n",
        "import matplotlib.pyplot as plt\n",
        "import csv\n",
        "import random\n",
        "import time\n",
        "import requests\n",
        "from pandas.core.window.doc import window_agg_numba_parameters\n",
        "import requests"
      ]
    },
    {
      "cell_type": "markdown",
      "source": [
        "users details"
      ],
      "metadata": {
        "id": "O3VMEunq785w"
      }
    },
    {
      "cell_type": "code",
      "source": [
        "input_name = input('Enter your username: ')"
      ],
      "metadata": {
        "colab": {
          "base_uri": "https://localhost:8080/"
        },
        "id": "v3cLGn3g71O4",
        "outputId": "2a00741c-040d-4de5-f225-6329f16ec9f9"
      },
      "execution_count": 2,
      "outputs": [
        {
          "name": "stdout",
          "output_type": "stream",
          "text": [
            "Enter your username: Liam Johnson\n"
          ]
        }
      ]
    },
    {
      "cell_type": "markdown",
      "source": [
        "GETS USER'S LOCATION"
      ],
      "metadata": {
        "id": "Dys1Ky-H8LzS"
      }
    },
    {
      "cell_type": "code",
      "source": [
        "# my API key from IPinfo\n",
        "api_key = '2eebb4862d32cc'\n",
        "\n",
        "#user's IP address\n",
        "user_ip = '102.215.135.8'\n",
        "\n",
        "\n",
        "url = f\"https://ipinfo.io/{user_ip}?token={api_key}\"\n",
        "response = requests.get(url)\n",
        "\n",
        "if response.status_code == 200:\n",
        "    location_data = response.json()\n",
        "    print(\"User's Location Details:\")\n",
        "    print(\"IP Address:\", location_data['ip'])\n",
        "    print(\"City:\", location_data['city'])\n",
        "    print(\"Region:\", location_data['region'])\n",
        "    print(\"Country:\", location_data['country'])\n",
        "    print(\"Latitude:\", location_data['loc'].split(',')[0])\n",
        "    print(\"Longitude:\", location_data['loc'].split(',')[1])\n",
        "\n",
        "else:\n",
        "    print(\"Location not found for the given IP.\")"
      ],
      "metadata": {
        "colab": {
          "base_uri": "https://localhost:8080/"
        },
        "id": "xC39H1Ta8Cr_",
        "outputId": "5b52eafb-5fc7-40ac-cbad-8e1d16063e23"
      },
      "execution_count": 3,
      "outputs": [
        {
          "output_type": "stream",
          "name": "stdout",
          "text": [
            "User's Location Details:\n",
            "IP Address: 102.215.135.8\n",
            "City: Johannesburg\n",
            "Region: Gauteng\n",
            "Country: ZA\n",
            "Latitude: -26.2023\n",
            "Longitude: 28.0436\n"
          ]
        }
      ]
    },
    {
      "cell_type": "markdown",
      "source": [
        "GETS USERS WEATHER"
      ],
      "metadata": {
        "id": "skaqiOJ68oNQ"
      }
    },
    {
      "cell_type": "code",
      "source": [
        "\n",
        "\n",
        "# OpenWeatherMap API key\n",
        "api_key = '69aec7bc4691535f73f99f24a8971860'\n",
        "\n",
        "# get location\n",
        "city_name = location_data['city']\n",
        "country_code = location_data['country']\n",
        "\n",
        "\n",
        "url = f'https://api.openweathermap.org/data/2.5/weather?q={city_name},{country_code}&appid={api_key}'\n",
        "\n",
        "\n",
        "\n",
        "response = requests.get(url)\n",
        "\n",
        "# Check if the request was successful\n",
        "if response.status_code == 200:\n",
        "\n",
        "    weather_data = response.json()\n",
        "\n",
        "\n",
        "    temperature_kelvin = weather_data['main']['temp']\n",
        "    temperature_celsius = temperature_kelvin - 273.15  # Convert to Celsius\n",
        "    weather_description = weather_data['weather'][0]['description']\n",
        "    pressure = weather_data['main']['pressure']\n",
        "    humidity = weather_data['main']['humidity']\n",
        "    wind_speed = weather_data['wind']['speed']\n",
        "    cloud_cover = weather_data['clouds']['all']\n",
        "\n",
        "\n",
        "    print(f\"Weather in {city_name}, {country_code}:\")\n",
        "    print(f\"Temperature: {temperature_celsius:.2f}°C\")\n",
        "    print(f\"Description: {weather_description.capitalize()}\")\n",
        "    print(f\"Humidity: {humidity}%\")\n",
        "    print(f\"Pressure: {pressure}hPa\")\n",
        "    print(f\"Wind speed:{wind_speed}m/s\")\n",
        "    print(f\"cloud cover:{cloud_cover}%\")\n",
        "    print('')\n",
        "\n",
        "\n",
        "else:\n",
        "    print(f\"Failed to retrieve weather data. Status code: {response.status_code}\")\n"
      ],
      "metadata": {
        "colab": {
          "base_uri": "https://localhost:8080/"
        },
        "id": "Dii-dmz58THW",
        "outputId": "d8718545-2246-49a6-ce97-a45e6c55e484"
      },
      "execution_count": 4,
      "outputs": [
        {
          "output_type": "stream",
          "name": "stdout",
          "text": [
            "Weather in Johannesburg, ZA:\n",
            "Temperature: 24.06°C\n",
            "Description: Clear sky\n",
            "Humidity: 29%\n",
            "Pressure: 1017hPa\n",
            "Wind speed:1.54m/s\n",
            "cloud cover:0%\n",
            "\n"
          ]
        }
      ]
    },
    {
      "cell_type": "markdown",
      "source": [
        "ESTIMATES PRECIPITATION"
      ],
      "metadata": {
        "id": "dzhXRfw99c63"
      }
    },
    {
      "cell_type": "code",
      "source": [
        "def estimate_precipitation_chance( pressure,humidity,cloud_cover, ):\n",
        "\n",
        "    humidity_threshold = 0.6\n",
        "    cloud_cover_threshold = 0.7\n",
        "    pressure_threshold = 1010\n",
        "\n",
        "    precipitation_chance = 0\n",
        "\n",
        "\n",
        "    if humidity >= humidity_threshold:\n",
        "        precipitation_chance += 30\n",
        "    if cloud_cover >= cloud_cover_threshold:\n",
        "        precipitation_chance += 40\n",
        "    if pressure <= pressure_threshold:\n",
        "        precipitation_chance += 20\n",
        "\n",
        "\n",
        "    precipitation_chance = min(precipitation_chance, 100)\n",
        "\n",
        "    return precipitation_chance\n",
        "\n",
        "\n",
        "precipitation_chance = estimate_precipitation_chance( pressure,humidity,cloud_cover,)\n",
        "print(f\"Estimated Precipitation Chance: {precipitation_chance}%\")\n"
      ],
      "metadata": {
        "colab": {
          "base_uri": "https://localhost:8080/"
        },
        "id": "loKjyN349cZR",
        "outputId": "fee804bf-3d06-4568-97c4-ca7b9c43742a"
      },
      "execution_count": 5,
      "outputs": [
        {
          "output_type": "stream",
          "name": "stdout",
          "text": [
            "Estimated Precipitation Chance: 30%\n"
          ]
        }
      ]
    },
    {
      "cell_type": "markdown",
      "source": [
        "CREATE A IRRIGATION SCHEDULE"
      ],
      "metadata": {
        "id": "E4pKa8Bc-97y"
      }
    },
    {
      "cell_type": "code",
      "source": [
        "def get_soil_moisture():\n",
        "    # get soil moisture\n",
        "    moisture = random.uniform(0, 1)\n",
        "    return moisture\n",
        "\n",
        "def get_weather_forecast():\n",
        "    # get weather forecast\n",
        "    temperature = temperature_celsius\n",
        "    precipitation_chance = estimate_precipitation_chance( pressure,humidity,cloud_cover,)\n",
        "    return temperature, precipitation_chance\n",
        "\n",
        "def irrigate_plants(minutes):\n",
        "    #turning on irrigation system\n",
        "    print(f\"Irrigating system is on for {minutes} minutes...\")\n",
        "    time.sleep(minutes * 60)\n",
        "    print(\"Irrigation complete.\")\n",
        "\n",
        "\n",
        "def main():\n",
        "  while True:\n",
        "        # Check soil moisture levels\n",
        "        moisture = get_soil_moisture()\n",
        "\n",
        "        # Get weather forecast data\n",
        "        temperature, precipitation_chance = get_weather_forecast()\n",
        "\n",
        "        # Adjust irrigation schedule based on soil moisture and weather conditions\n",
        "        if moisture < 0.5:\n",
        "            if temperature > 25 and precipitation_chance > 50:\n",
        "\n",
        "                irrigate_plants(minutes=10)\n",
        "\n",
        "                print('Done IRRAGATING and The Irrigation system will be off')\n",
        "\n",
        "\n",
        "            elif temperature <= 25 and precipitation_chance <= 50:\n",
        "\n",
        "                irrigate_plants(minutes=5)\n",
        "\n",
        "                print('Done IRRAGATING and The Irrigation system will be off')\n",
        "\n",
        "        else:\n",
        "            # Soil moisture is sufficient, no need to irrigate\n",
        "            print(\"Soil moisture is sufficient. No irrigation needed.\")\n",
        "            print('Irrigation system asleep for 1 hour')\n",
        "\n",
        "            print(f'asleep for :{time.sleep(1 * 3600) } minutes')\n",
        "\n",
        "if __name__ == \"__main__\":\n",
        "    main()\n"
      ],
      "metadata": {
        "colab": {
          "base_uri": "https://localhost:8080/",
          "height": 366
        },
        "id": "ZCN7vZtQ_Jqe",
        "outputId": "67547ddc-48df-40c1-a88e-1e3067a483b3"
      },
      "execution_count": 8,
      "outputs": [
        {
          "output_type": "stream",
          "name": "stdout",
          "text": [
            "Soil moisture is sufficient. No irrigation needed.\n",
            "Irrigation system asleep for 1 hour\n"
          ]
        },
        {
          "output_type": "error",
          "ename": "KeyboardInterrupt",
          "evalue": "ignored",
          "traceback": [
            "\u001b[0;31m---------------------------------------------------------------------------\u001b[0m",
            "\u001b[0;31mKeyboardInterrupt\u001b[0m                         Traceback (most recent call last)",
            "\u001b[0;32m<ipython-input-8-0be20d00ab12>\u001b[0m in \u001b[0;36m<cell line: 50>\u001b[0;34m()\u001b[0m\n\u001b[1;32m     49\u001b[0m \u001b[0;34m\u001b[0m\u001b[0m\n\u001b[1;32m     50\u001b[0m \u001b[0;32mif\u001b[0m \u001b[0m__name__\u001b[0m \u001b[0;34m==\u001b[0m \u001b[0;34m\"__main__\"\u001b[0m\u001b[0;34m:\u001b[0m\u001b[0;34m\u001b[0m\u001b[0;34m\u001b[0m\u001b[0m\n\u001b[0;32m---> 51\u001b[0;31m     \u001b[0mmain\u001b[0m\u001b[0;34m(\u001b[0m\u001b[0;34m)\u001b[0m\u001b[0;34m\u001b[0m\u001b[0;34m\u001b[0m\u001b[0m\n\u001b[0m",
            "\u001b[0;32m<ipython-input-8-0be20d00ab12>\u001b[0m in \u001b[0;36mmain\u001b[0;34m()\u001b[0m\n\u001b[1;32m     46\u001b[0m \u001b[0;34m\u001b[0m\u001b[0m\n\u001b[1;32m     47\u001b[0m \u001b[0;34m\u001b[0m\u001b[0m\n\u001b[0;32m---> 48\u001b[0;31m             \u001b[0mprint\u001b[0m\u001b[0;34m(\u001b[0m\u001b[0;34mf'asleep for :{time.sleep(1 * 3600) } minutes'\u001b[0m\u001b[0;34m)\u001b[0m\u001b[0;34m\u001b[0m\u001b[0;34m\u001b[0m\u001b[0m\n\u001b[0m\u001b[1;32m     49\u001b[0m \u001b[0;34m\u001b[0m\u001b[0m\n\u001b[1;32m     50\u001b[0m \u001b[0;32mif\u001b[0m \u001b[0m__name__\u001b[0m \u001b[0;34m==\u001b[0m \u001b[0;34m\"__main__\"\u001b[0m\u001b[0;34m:\u001b[0m\u001b[0;34m\u001b[0m\u001b[0;34m\u001b[0m\u001b[0m\n",
            "\u001b[0;31mKeyboardInterrupt\u001b[0m: "
          ]
        }
      ]
    },
    {
      "cell_type": "markdown",
      "source": [
        "DISPLAY USER DETAILS"
      ],
      "metadata": {
        "id": "Mn0xDb1kCwLw"
      }
    },
    {
      "cell_type": "code",
      "source": [
        "    print(\"User's Details:\")\n",
        "    print(\"username:\",input_name)\n",
        "    print(\"City:\", location_data['city'])\n",
        "    print(\"Region:\", location_data['region'])\n",
        "    print(f\"Temperature: {temperature_celsius:.2f}°C\")\n",
        "    print(f\"Description: {weather_description.capitalize()}\")\n",
        "    print(f\"Humidity: {humidity}%\")\n",
        "    print(f\"Wind speed:{wind_speed}m/s\")\n",
        "    print(f\"cloud cover:{cloud_cover}%\")\n",
        "    print(f\"Estimated Precipitation Chance: {precipitation_chance}%\")\n",
        "\n",
        "\n",
        "\n",
        "\n"
      ],
      "metadata": {
        "colab": {
          "base_uri": "https://localhost:8080/"
        },
        "id": "wa8raO8uCv0L",
        "outputId": "22357930-07d4-45e8-9290-21b6c9660314"
      },
      "execution_count": 9,
      "outputs": [
        {
          "output_type": "stream",
          "name": "stdout",
          "text": [
            "User's Details:\n",
            "username: Liam Johnson\n",
            "City: Johannesburg\n",
            "Region: Gauteng\n",
            "Temperature: 24.06°C\n",
            "Description: Clear sky\n",
            "Humidity: 29%\n",
            "Wind speed:1.54m/s\n",
            "cloud cover:0%\n",
            "Estimated Precipitation Chance: 30%\n"
          ]
        }
      ]
    },
    {
      "cell_type": "markdown",
      "source": [
        "view\n"
      ],
      "metadata": {
        "id": "WISNuh6efypn"
      }
    },
    {
      "cell_type": "markdown",
      "source": [
        "create the model\n",
        "\n"
      ],
      "metadata": {
        "id": "isiBX7oZgmIR"
      }
    },
    {
      "cell_type": "code",
      "source": [
        "import tensorflow as tf\n",
        "import keras as k\n",
        "from keras import Sequential\n",
        "from keras import preprocessing\n",
        "from keras.layers import Conv2D, MaxPooling2D, Flatten, Dense, Dropout\n",
        "from keras.preprocessing.image import ImageDataGenerator\n",
        "from keras.models import Sequential\n",
        "from keras.layers import Conv2D, MaxPooling2D, Flatten, Dense, Dropout\n",
        "\n",
        "import os\n",
        "import numpy as np\n",
        "import tensorflow as tf\n",
        "import keras as k\n",
        "from keras.preprocessing.image import ImageDataGenerator\n",
        "from keras.applications import MobileNetV2\n",
        "from keras.layers import Dense, GlobalAveragePooling2D\n",
        "from keras.models import Model\n",
        "from keras.optimizers import Adam\n",
        "from keras.models import load_model\n",
        "from keras.preprocessing import image\n",
        "\n",
        "# Data paths for each crop\n",
        "tomato_train_dir = '/content/drive/MyDrive/Apple/Tomato/Train'\n",
        "tomato_test_dir = '/content/drive/MyDrive/Apple/Tomato/Test'\n",
        "tomato_val_dir = '/content/drive/MyDrive/Apple/Tomato/Val'\n",
        "\n",
        "# Data preprocessing and augmentation\n",
        "train_datagen = ImageDataGenerator(\n",
        "    rescale=1.0/255,\n",
        "    rotation_range=20,\n",
        "    width_shift_range=0.2,\n",
        "    height_shift_range=0.2,\n",
        "    shear_range=0.2,\n",
        "    zoom_range=0.2,\n",
        "    horizontal_flip=True,\n",
        "    fill_mode='nearest'\n",
        ")\n",
        "\n",
        "test_datagen = ImageDataGenerator(rescale=1.0/255)\n",
        "\n",
        "# Data preprocessing and augmentation for Tomato\n",
        "tomato_train_generator = train_datagen.flow_from_directory(\n",
        "    tomato_train_dir,\n",
        "    target_size=(224, 224),\n",
        "    batch_size=32,\n",
        "    class_mode='categorical'\n",
        ")\n",
        "\n",
        "tomato_test_generator = test_datagen.flow_from_directory(\n",
        "    tomato_test_dir,\n",
        "    target_size=(224, 224),\n",
        "    batch_size=32,\n",
        "    class_mode='categorical'\n",
        ")\n",
        "\n",
        "# Build model architecture for Tomato\n",
        "tomato_base_model = MobileNetV2(weights='imagenet', include_top=False, input_shape=(224, 224, 3))\n",
        "x = tomato_base_model.output\n",
        "x = GlobalAveragePooling2D()(x)\n",
        "x = Dense(1024, activation='relu')(x)\n",
        "tomato_predictions = Dense(tomato_train_generator.num_classes, activation='softmax')(x)\n",
        "tomato_model = Model(inputs=tomato_base_model.input, outputs=tomato_predictions)\n",
        "\n",
        "# Compile the Tomato model\n",
        "tomato_model.compile(optimizer='adam', loss='categorical_crossentropy', metrics=['accuracy'])\n",
        "\n",
        "# Train the Tomato model\n",
        "tomato_history = tomato_model.fit(\n",
        "    tomato_train_generator,\n",
        "    steps_per_epoch=len(tomato_train_generator),\n",
        "    epochs=3,\n",
        "    validation_data=tomato_test_generator,\n",
        "    validation_steps=len(tomato_test_generator)\n",
        ")\n",
        "# Evaluate the Tomato model\n",
        "tomato_evaluation = tomato_model.evaluate(\n",
        "    tomato_test_generator,\n",
        "    steps=len(tomato_test_generator)\n",
        ")\n",
        "print(\"Tomato Test Loss:\", tomato_evaluation[0])\n",
        "print(\"Tomato Test Accuracy:\", tomato_evaluation[1])\n",
        "\n",
        "# After training and evaluating the Tomato model\n",
        "tomato_model.save('tomato_disease_model.h5')\n",
        "\n",
        "# Function to predict tomato crop disease\n",
        "def predict_tomato_disease(image_path, model_tomato):\n",
        "    img = image.load_img(image_path, target_size=(224, 224))\n",
        "    img_array = image.img_to_array(img)\n",
        "    img_array = np.expand_dims(img_array, axis=0)\n",
        "    img_array /= 255.0\n",
        "    prediction = model.predict(img_array)\n",
        "    class_idx = np.argmax(prediction)\n",
        "    class_label = tomato_train_generator.class_indices[class_idx]\n",
        "    return class_label,prediction[0]"
      ],
      "metadata": {
        "colab": {
          "base_uri": "https://localhost:8080/"
        },
        "id": "ZHh8IECVdjEf",
        "outputId": "b25380ad-e9b3-4d47-ce83-1fb9d3dcb6c1"
      },
      "execution_count": null,
      "outputs": [
        {
          "output_type": "stream",
          "name": "stdout",
          "text": [
            "Found 4032 images belonging to 6 classes.\n",
            "Found 280 images belonging to 6 classes.\n",
            "Epoch 1/3\n",
            " 97/126 [======================>.......] - ETA: 3:55 - loss: 0.5233 - accuracy: 0.8347"
          ]
        }
      ]
    }
  ]
}